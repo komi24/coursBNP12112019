{
 "cells": [
  {
   "cell_type": "code",
   "execution_count": 20,
   "metadata": {},
   "outputs": [
    {
     "name": "stdout",
     "output_type": "stream",
     "text": [
      "2\n",
      "50\n"
     ]
    }
   ],
   "source": [
    "a = 2\n",
    "print(a)\n",
    "print(age)"
   ]
  },
  {
   "cell_type": "markdown",
   "metadata": {},
   "source": [
    "## This is a title\n",
    "\n",
    "#### Subtitle here\n",
    "\n",
    "* List item 1\n",
    "* List item 2\n",
    "* list item 3 "
   ]
  },
  {
   "cell_type": "code",
   "execution_count": 13,
   "metadata": {},
   "outputs": [
    {
     "data": {
      "text/plain": [
       "50"
      ]
     },
     "execution_count": 13,
     "metadata": {},
     "output_type": "execute_result"
    }
   ],
   "source": [
    "a  = 2\n",
    "type(a)\n",
    "a = 2.4\n",
    "\n",
    "type(a)\n",
    "\n",
    "type(4 + 4)\n",
    "\n",
    "type(4 + 4.2)\n",
    "\n",
    "type(\"hello \" + \"world\")\n",
    "\"hello \" + \"world\"\n",
    "\n",
    "False or True\n",
    "False and True\n",
    "\n",
    "4 < 2\n",
    "\n",
    "4 > 2\n",
    "\n",
    "age = 50\n",
    "\n",
    "age > 18 and age < 30\n",
    "\n",
    "age == 50\n",
    "\n",
    "age == 20\n",
    "\n",
    "age != 20\n",
    "\n",
    "age"
   ]
  },
  {
   "cell_type": "code",
   "execution_count": 19,
   "metadata": {},
   "outputs": [
    {
     "name": "stdout",
     "output_type": "stream",
     "text": [
      "50\n"
     ]
    }
   ],
   "source": [
    "print(age)"
   ]
  },
  {
   "cell_type": "code",
   "execution_count": 22,
   "metadata": {},
   "outputs": [
    {
     "name": "stdout",
     "output_type": "stream",
     "text": [
      "age + 2\n",
      "52\n"
     ]
    }
   ],
   "source": [
    "print(\"age + 2\")\n",
    "print(age + 2)"
   ]
  },
  {
   "cell_type": "code",
   "execution_count": 28,
   "metadata": {},
   "outputs": [
    {
     "data": {
      "text/plain": [
       "True"
      ]
     },
     "execution_count": 28,
     "metadata": {},
     "output_type": "execute_result"
    }
   ],
   "source": [
    "my_list = [] # empty list\n",
    "my_list = [4, 2, 5, True, \"Hello\", [2, 5, 4], 14, False, 22]\n",
    "my_list[0] # first element\n",
    "my_list[1] # 2nd element\n",
    "my_list[-1] # last element\n",
    "my_list[-1][1]\n",
    "my_list[-3]\n"
   ]
  },
  {
   "cell_type": "code",
   "execution_count": 53,
   "metadata": {},
   "outputs": [
    {
     "name": "stdout",
     "output_type": "stream",
     "text": [
      "[54, 6, 7, 1, 0, 12, [15, 4], 15, 4]\n"
     ]
    }
   ],
   "source": [
    "my_list[0] = 54\n",
    "print(my_list)\n",
    "len(my_list)\n",
    "my_list = [4, 6, 7, 1, 0, 12]\n",
    "min(my_list)\n",
    "max(my_list)\n",
    "\n",
    "my_list + [2, 4, 7]\n",
    "my_list * 2 \n",
    "\n",
    "my_list.append([15, 4])\n",
    "my_list.extend([15, 4]) # my_list = my_list + [15, 4]\n",
    "\n",
    "# import numpy as np\n",
    "# type(np.array(my_list))\n",
    "# array = np.array([1, 5])\n",
    "# array.dot(np.array([[0, 1], [-1, 0]]))\n",
    "# array.dot(np.array([[12, 0], [0, 3]]))\n",
    "# # np.array([[0, 1], [-1, 0]])"
   ]
  },
  {
   "cell_type": "code",
   "execution_count": 64,
   "metadata": {},
   "outputs": [
    {
     "name": "stdout",
     "output_type": "stream",
     "text": [
      "[4, 6, 7, 1, 0, 12, [15, 4], 15, 4]\n",
      "[4, 6, 7]\n",
      "[12, [15, 4], 15, 4]\n",
      "[6, 1, 12]\n",
      "[15, [15, 4], 12, 0, 1, 7]\n"
     ]
    }
   ],
   "source": [
    "my_list[0:4]\n",
    "my_list[4:6]\n",
    "my_list[:4]\n",
    "my_list[2:]\n",
    "my_list[2:-1]\n",
    "my_list[4:8:2]\n",
    "my_list[::-2]\n",
    "\n",
    "print(my_list)\n",
    "# Récupérer les 3 premiers éléments\n",
    "print(my_list[:3])\n",
    "# Récupérer les 4 derniers éléments\n",
    "print(my_list[-4:])\n",
    "# Récupérer les éléments du 2e au 7e de deux en deux\n",
    "print(my_list[1:7:2])\n",
    "# Récupérer les éléments du 2e en partant de la fin au 3e (sens inverse)\n",
    "print(my_list[-2:1:-1])\n",
    "\n",
    "# https://github.com/komi24/coursBNP12112019\n"
   ]
  },
  {
   "cell_type": "code",
   "execution_count": 1,
   "metadata": {},
   "outputs": [
    {
     "name": "stdout",
     "output_type": "stream",
     "text": [
      "Vous avez 1 ans\n",
      "Vous avez -2 ans\n",
      "Vous avez 4 ans\n",
      "Vous avez -8 ans\n",
      "Vous avez 16 ans\n",
      "Vous avez -32 ans\n",
      "fin\n"
     ]
    }
   ],
   "source": [
    "age = 1\n",
    "\n",
    "while age < 18:\n",
    "#     print(\"Vous avez \" + str(age))\n",
    "    print(f\"Vous avez {age} ans\")\n",
    "    age = -2* age # age = age + 2\n",
    "    \n",
    "print(\"fin\")"
   ]
  },
  {
   "cell_type": "code",
   "execution_count": 17,
   "metadata": {},
   "outputs": [
    {
     "name": "stdout",
     "output_type": "stream",
     "text": [
      "4\n",
      "interieur\n",
      "6\n",
      "interieur\n",
      "7\n",
      "interieur\n",
      "1\n",
      "interieur\n",
      "0\n",
      "interieur\n",
      "12\n",
      "interieur\n",
      "exterieur\n"
     ]
    }
   ],
   "source": [
    "my_list = [4, 6, 7, 1, 0, 12]\n",
    "\n",
    "for element in my_list:\n",
    "    print(element)\n",
    "    print(\"interieur\")\n",
    "    \n",
    "print(\"exterieur\")\n",
    "# for i in range(len(my_list)):\n",
    "#     print(my_list[i])\n",
    "\n",
    "# for i in range(10):\n",
    "#     print(i)\n",
    "    \n",
    "# for i in range(4, 10):\n",
    "#     print(i)"
   ]
  },
  {
   "cell_type": "code",
   "execution_count": 10,
   "metadata": {},
   "outputs": [
    {
     "data": {
      "text/plain": [
       "[0, 1, 2, 3, 4, 5, 6, 7, 8, 9]"
      ]
     },
     "execution_count": 10,
     "metadata": {},
     "output_type": "execute_result"
    }
   ],
   "source": [
    "# list(range(10))"
   ]
  },
  {
   "cell_type": "code",
   "execution_count": 16,
   "metadata": {},
   "outputs": [
    {
     "name": "stdout",
     "output_type": "stream",
     "text": [
      "mineur\n"
     ]
    }
   ],
   "source": [
    "age = 16\n",
    "\n",
    "if age > 18:\n",
    "    print(\"majeur\")\n",
    "elif age < 18:\n",
    "    print(\"mineur\")\n",
    "else:\n",
    "    print(\"va passer ton bac\")"
   ]
  },
  {
   "cell_type": "code",
   "execution_count": 18,
   "metadata": {},
   "outputs": [],
   "source": [
    "if age > 18:\n",
    "    print(\"majeur\")\n",
    "elif age > 16:\n",
    "    print(\"mineur\")\n",
    "\n",
    "if age > 18:\n",
    "    print(\"majeur\")\n",
    "if age > 16:\n",
    "    print(\"mineur\")\n",
    "    "
   ]
  },
  {
   "cell_type": "markdown",
   "metadata": {},
   "source": [
    "## Fizz Buzz\n",
    "\n",
    "Pour tous les entiers de 0 à 100 : \n",
    "* On affiche \"fizz\" si l'entier est multiple de 3\n",
    "* On affiche \"buzz\" si l'entier est multiple de 5\n",
    "* On affiche \"bazz\" si l'entier est multiple de 3 et 5\n",
    "* On affiche l'entier\n",
    "\n",
    "#### Résultat :\n",
    "* bazz\n",
    "* 1\n",
    "* 2\n",
    "* fizz\n",
    "* 4\n",
    "* buzz\n",
    "* fizz\n",
    "..."
   ]
  },
  {
   "cell_type": "code",
   "execution_count": 24,
   "metadata": {},
   "outputs": [
    {
     "name": "stdout",
     "output_type": "stream",
     "text": [
      "bazz\n",
      "1\n",
      "2\n",
      "fizz\n",
      "4\n",
      "buzz\n",
      "fizz\n",
      "7\n",
      "8\n",
      "fizz\n",
      "buzz\n"
     ]
    }
   ],
   "source": [
    "for i in range(11):\n",
    "    if i % 3 == 0 and i % 5 == 0:\n",
    "        print(\"bazz\")\n",
    "    elif i % 3 == 0:\n",
    "        print(\"fizz\")\n",
    "    elif i % 5 == 0:\n",
    "        print(\"buzz\")\n",
    "    else:\n",
    "        print(i)"
   ]
  },
  {
   "cell_type": "code",
   "execution_count": 27,
   "metadata": {},
   "outputs": [
    {
     "name": "stdout",
     "output_type": "stream",
     "text": [
      "How old are you ?35\n"
     ]
    }
   ],
   "source": [
    "age = int(input(\"How old are you ?\"))"
   ]
  },
  {
   "cell_type": "code",
   "execution_count": 28,
   "metadata": {},
   "outputs": [
    {
     "name": "stdout",
     "output_type": "stream",
     "text": [
      "<class 'int'>\n"
     ]
    }
   ],
   "source": [
    "print(type(age))"
   ]
  },
  {
   "cell_type": "code",
   "execution_count": 34,
   "metadata": {},
   "outputs": [
    {
     "name": "stdout",
     "output_type": "stream",
     "text": [
      "Guess a number50\n",
      "Too big\n",
      "Guess a number25\n",
      "Too small\n",
      "Guess a number32\n",
      "Too small\n",
      "Guess a number38\n",
      "You won\n"
     ]
    }
   ],
   "source": [
    "from random import randint\n",
    "\n",
    "secret = randint(0, 100)\n",
    "guess = None\n",
    "\n",
    "\"\"\"\n",
    "    The user guess a number.\n",
    "    The computer says if it's too small or too big\n",
    "    So that user can make other guesses untill it's correct\n",
    "\"\"\"\n",
    "while guess != secret:\n",
    "    guess = int(input(\"Guess a number\"))\n",
    "    if guess < secret:\n",
    "        print(\"Too small\")\n",
    "    elif guess > secret:\n",
    "        print(\"Too big\")\n",
    "print(\"You won\")"
   ]
  },
  {
   "cell_type": "code",
   "execution_count": 37,
   "metadata": {},
   "outputs": [
    {
     "name": "stdout",
     "output_type": "stream",
     "text": [
      "I think it's 50. Isn't it ? B/S/EB\n",
      "I think it's 75. Isn't it ? B/S/EB\n",
      "I think it's 88. Isn't it ? B/S/EB\n",
      "I think it's 94. Isn't it ? B/S/EB\n",
      "I think it's 97. Isn't it ? B/S/EB\n",
      "I think it's 99. Isn't it ? B/S/EB\n",
      "I think it's 100. Isn't it ? B/S/EE\n",
      "Computer won !\n"
     ]
    }
   ],
   "source": [
    "borne_min = 0\n",
    "borne_max = 101\n",
    "answer = None\n",
    "\n",
    "while answer != \"E\":\n",
    "    guess = (borne_min + borne_max) // 2\n",
    "    answer = input(f\"I think it's {guess}. Isn't it ? B/S/E\")\n",
    "    if answer == \"B\":\n",
    "        borne_min = guess\n",
    "    elif answer == \"S\":\n",
    "        borne_max = guess\n",
    "        \n",
    "print(\"Computer won !\")"
   ]
  },
  {
   "cell_type": "code",
   "execution_count": null,
   "metadata": {},
   "outputs": [],
   "source": []
  }
 ],
 "metadata": {
  "kernelspec": {
   "display_name": "Python 3",
   "language": "python",
   "name": "python3"
  },
  "language_info": {
   "codemirror_mode": {
    "name": "ipython",
    "version": 3
   },
   "file_extension": ".py",
   "mimetype": "text/x-python",
   "name": "python",
   "nbconvert_exporter": "python",
   "pygments_lexer": "ipython3",
   "version": "3.7.3"
  }
 },
 "nbformat": 4,
 "nbformat_minor": 2
}
