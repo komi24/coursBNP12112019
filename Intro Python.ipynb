{
 "cells": [
  {
   "cell_type": "code",
   "execution_count": 20,
   "metadata": {},
   "outputs": [
    {
     "name": "stdout",
     "output_type": "stream",
     "text": [
      "2\n",
      "50\n"
     ]
    }
   ],
   "source": [
    "a = 2\n",
    "print(a)\n",
    "print(age)"
   ]
  },
  {
   "cell_type": "markdown",
   "metadata": {},
   "source": [
    "## This is a title\n",
    "\n",
    "#### Subtitle here\n",
    "\n",
    "* List item 1\n",
    "* List item 2\n",
    "* list item 3 "
   ]
  },
  {
   "cell_type": "code",
   "execution_count": 18,
   "metadata": {},
   "outputs": [
    {
     "data": {
      "text/plain": [
       "50"
      ]
     },
     "execution_count": 18,
     "metadata": {},
     "output_type": "execute_result"
    }
   ],
   "source": [
    "a  = 2\n",
    "type(a)\n",
    "a = 2.4\n",
    "\n",
    "type(a)\n",
    "\n",
    "type(4 + 4)\n",
    "\n",
    "type(4 + 4.2)\n",
    "\n",
    "type(\"hello \" + \"world\")\n",
    "\"hello \" + \"world\"\n",
    "\n",
    "False or True\n",
    "False and True\n",
    "\n",
    "4 < 2\n",
    "\n",
    "4 > 2\n",
    "\n",
    "age = 50\n",
    "\n",
    "age > 18 and age < 30\n",
    "\n",
    "age == 50\n",
    "\n",
    "age == 20\n",
    "\n",
    "age"
   ]
  },
  {
   "cell_type": "code",
   "execution_count": 19,
   "metadata": {},
   "outputs": [
    {
     "name": "stdout",
     "output_type": "stream",
     "text": [
      "50\n"
     ]
    }
   ],
   "source": [
    "print(age)"
   ]
  },
  {
   "cell_type": "code",
   "execution_count": 22,
   "metadata": {},
   "outputs": [
    {
     "name": "stdout",
     "output_type": "stream",
     "text": [
      "age + 2\n",
      "52\n"
     ]
    }
   ],
   "source": [
    "print(\"age + 2\")\n",
    "print(age + 2)"
   ]
  },
  {
   "cell_type": "code",
   "execution_count": 28,
   "metadata": {},
   "outputs": [
    {
     "data": {
      "text/plain": [
       "True"
      ]
     },
     "execution_count": 28,
     "metadata": {},
     "output_type": "execute_result"
    }
   ],
   "source": [
    "my_list = [] # empty list\n",
    "my_list = [4, 2, 5, True, \"Hello\", [2, 5, 4], 14, False, 22]\n",
    "my_list[0] # first element\n",
    "my_list[1] # 2nd element\n",
    "my_list[-1] # last element\n",
    "my_list[-1][1]\n",
    "my_list[-3]\n"
   ]
  },
  {
   "cell_type": "code",
   "execution_count": 53,
   "metadata": {},
   "outputs": [
    {
     "name": "stdout",
     "output_type": "stream",
     "text": [
      "[54, 6, 7, 1, 0, 12, [15, 4], 15, 4]\n"
     ]
    }
   ],
   "source": [
    "my_list[0] = 54\n",
    "print(my_list)\n",
    "len(my_list)\n",
    "my_list = [4, 6, 7, 1, 0, 12]\n",
    "min(my_list)\n",
    "max(my_list)\n",
    "\n",
    "my_list + [2, 4, 7]\n",
    "my_list * 2 \n",
    "\n",
    "my_list.append([15, 4])\n",
    "my_list.extend([15, 4]) # my_list = my_list + [15, 4]\n",
    "\n",
    "# import numpy as np\n",
    "# type(np.array(my_list))\n",
    "# array = np.array([1, 5])\n",
    "# array.dot(np.array([[0, 1], [-1, 0]]))\n",
    "# array.dot(np.array([[12, 0], [0, 3]]))\n",
    "# # np.array([[0, 1], [-1, 0]])"
   ]
  },
  {
   "cell_type": "code",
   "execution_count": 64,
   "metadata": {},
   "outputs": [
    {
     "name": "stdout",
     "output_type": "stream",
     "text": [
      "[4, 6, 7, 1, 0, 12, [15, 4], 15, 4]\n",
      "[4, 6, 7]\n",
      "[12, [15, 4], 15, 4]\n",
      "[6, 1, 12]\n",
      "[15, [15, 4], 12, 0, 1, 7]\n"
     ]
    }
   ],
   "source": [
    "my_list[0:4]\n",
    "my_list[4:6]\n",
    "my_list[:4]\n",
    "my_list[2:]\n",
    "my_list[2:-1]\n",
    "my_list[4:8:2]\n",
    "my_list[::-2]\n",
    "\n",
    "print(my_list)\n",
    "# Récupérer les 3 premiers éléments\n",
    "print(my_list[:3])\n",
    "# Récupérer les 4 derniers éléments\n",
    "print(my_list[-4:])\n",
    "# Récupérer les éléments du 2e au 7e de deux en deux\n",
    "print(my_list[1:7:2])\n",
    "# Récupérer les éléments du 2e en partant de la fin au 3e (sens inverse)\n",
    "print(my_list[-2:1:-1])\n",
    "\n"
   ]
  },
  {
   "cell_type": "code",
   "execution_count": null,
   "metadata": {},
   "outputs": [],
   "source": []
  }
 ],
 "metadata": {
  "kernelspec": {
   "display_name": "Python 3",
   "language": "python",
   "name": "python3"
  },
  "language_info": {
   "codemirror_mode": {
    "name": "ipython",
    "version": 3
   },
   "file_extension": ".py",
   "mimetype": "text/x-python",
   "name": "python",
   "nbconvert_exporter": "python",
   "pygments_lexer": "ipython3",
   "version": "3.7.3"
  }
 },
 "nbformat": 4,
 "nbformat_minor": 2
}
