{
 "cells": [
  {
   "cell_type": "code",
   "execution_count": 20,
   "metadata": {},
   "outputs": [
    {
     "name": "stdout",
     "output_type": "stream",
     "text": [
      "2\n",
      "50\n"
     ]
    }
   ],
   "source": [
    "a = 2\n",
    "print(a)\n",
    "print(age)"
   ]
  },
  {
   "cell_type": "markdown",
   "metadata": {},
   "source": [
    "## This is a title\n",
    "\n",
    "#### Subtitle here\n",
    "\n",
    "* List item 1\n",
    "* List item 2\n",
    "* list item 3 "
   ]
  },
  {
   "cell_type": "code",
   "execution_count": 13,
   "metadata": {},
   "outputs": [
    {
     "data": {
      "text/plain": [
       "50"
      ]
     },
     "execution_count": 13,
     "metadata": {},
     "output_type": "execute_result"
    }
   ],
   "source": [
    "a  = 2\n",
    "type(a)\n",
    "a = 2.4\n",
    "\n",
    "type(a)\n",
    "\n",
    "type(4 + 4)\n",
    "\n",
    "type(4 + 4.2)\n",
    "\n",
    "type(\"hello \" + \"world\")\n",
    "\"hello \" + \"world\"\n",
    "\n",
    "False or True\n",
    "False and True\n",
    "\n",
    "4 < 2\n",
    "\n",
    "4 > 2\n",
    "\n",
    "age = 50\n",
    "\n",
    "age > 18 and age < 30\n",
    "\n",
    "age == 50\n",
    "\n",
    "age == 20\n",
    "\n",
    "age != 20\n",
    "\n",
    "age"
   ]
  },
  {
   "cell_type": "code",
   "execution_count": 19,
   "metadata": {},
   "outputs": [
    {
     "name": "stdout",
     "output_type": "stream",
     "text": [
      "50\n"
     ]
    }
   ],
   "source": [
    "print(age)"
   ]
  },
  {
   "cell_type": "code",
   "execution_count": 22,
   "metadata": {},
   "outputs": [
    {
     "name": "stdout",
     "output_type": "stream",
     "text": [
      "age + 2\n",
      "52\n"
     ]
    }
   ],
   "source": [
    "print(\"age + 2\")\n",
    "print(age + 2)"
   ]
  },
  {
   "cell_type": "code",
   "execution_count": 28,
   "metadata": {},
   "outputs": [
    {
     "data": {
      "text/plain": [
       "True"
      ]
     },
     "execution_count": 28,
     "metadata": {},
     "output_type": "execute_result"
    }
   ],
   "source": [
    "my_list = [] # empty list\n",
    "my_list = [4, 2, 5, True, \"Hello\", [2, 5, 4], 14, False, 22]\n",
    "my_list[0] # first element\n",
    "my_list[1] # 2nd element\n",
    "my_list[-1] # last element\n",
    "my_list[-1][1]\n",
    "my_list[-3]\n"
   ]
  },
  {
   "cell_type": "code",
   "execution_count": 53,
   "metadata": {},
   "outputs": [
    {
     "name": "stdout",
     "output_type": "stream",
     "text": [
      "[54, 6, 7, 1, 0, 12, [15, 4], 15, 4]\n"
     ]
    }
   ],
   "source": [
    "my_list[0] = 54\n",
    "print(my_list)\n",
    "len(my_list)\n",
    "my_list = [4, 6, 7, 1, 0, 12]\n",
    "min(my_list)\n",
    "max(my_list)\n",
    "\n",
    "my_list + [2, 4, 7]\n",
    "my_list * 2 \n",
    "\n",
    "my_list.append([15, 4])\n",
    "my_list.extend([15, 4]) # my_list = my_list + [15, 4]\n",
    "\n",
    "# import numpy as np\n",
    "# type(np.array(my_list))\n",
    "# array = np.array([1, 5])\n",
    "# array.dot(np.array([[0, 1], [-1, 0]]))\n",
    "# array.dot(np.array([[12, 0], [0, 3]]))\n",
    "# # np.array([[0, 1], [-1, 0]])"
   ]
  },
  {
   "cell_type": "code",
   "execution_count": 64,
   "metadata": {},
   "outputs": [
    {
     "name": "stdout",
     "output_type": "stream",
     "text": [
      "[4, 6, 7, 1, 0, 12, [15, 4], 15, 4]\n",
      "[4, 6, 7]\n",
      "[12, [15, 4], 15, 4]\n",
      "[6, 1, 12]\n",
      "[15, [15, 4], 12, 0, 1, 7]\n"
     ]
    }
   ],
   "source": [
    "my_list[0:4]\n",
    "my_list[4:6]\n",
    "my_list[:4]\n",
    "my_list[2:]\n",
    "my_list[2:-1]\n",
    "my_list[4:8:2]\n",
    "my_list[::-2]\n",
    "\n",
    "print(my_list)\n",
    "# Récupérer les 3 premiers éléments\n",
    "print(my_list[:3])\n",
    "# Récupérer les 4 derniers éléments\n",
    "print(my_list[-4:])\n",
    "# Récupérer les éléments du 2e au 7e de deux en deux\n",
    "print(my_list[1:7:2])\n",
    "# Récupérer les éléments du 2e en partant de la fin au 3e (sens inverse)\n",
    "print(my_list[-2:1:-1])\n",
    "\n",
    "# https://github.com/komi24/coursBNP12112019\n"
   ]
  },
  {
   "cell_type": "code",
   "execution_count": 1,
   "metadata": {},
   "outputs": [
    {
     "name": "stdout",
     "output_type": "stream",
     "text": [
      "Vous avez 1 ans\n",
      "Vous avez -2 ans\n",
      "Vous avez 4 ans\n",
      "Vous avez -8 ans\n",
      "Vous avez 16 ans\n",
      "Vous avez -32 ans\n",
      "fin\n"
     ]
    }
   ],
   "source": [
    "age = 1\n",
    "\n",
    "while age < 18:\n",
    "#     print(\"Vous avez \" + str(age))\n",
    "    print(f\"Vous avez {age} ans\")\n",
    "    age = -2* age # age = age + 2\n",
    "    \n",
    "print(\"fin\")"
   ]
  },
  {
   "cell_type": "code",
   "execution_count": 17,
   "metadata": {},
   "outputs": [
    {
     "name": "stdout",
     "output_type": "stream",
     "text": [
      "4\n",
      "interieur\n",
      "6\n",
      "interieur\n",
      "7\n",
      "interieur\n",
      "1\n",
      "interieur\n",
      "0\n",
      "interieur\n",
      "12\n",
      "interieur\n",
      "exterieur\n"
     ]
    }
   ],
   "source": [
    "my_list = [4, 6, 7, 1, 0, 12]\n",
    "\n",
    "for element in my_list:\n",
    "    print(element)\n",
    "    print(\"interieur\")\n",
    "    \n",
    "print(\"exterieur\")\n",
    "# for i in range(len(my_list)):\n",
    "#     print(my_list[i])\n",
    "\n",
    "# for i in range(10):\n",
    "#     print(i)\n",
    "    \n",
    "# for i in range(4, 10):\n",
    "#     print(i)"
   ]
  },
  {
   "cell_type": "code",
   "execution_count": 10,
   "metadata": {},
   "outputs": [
    {
     "data": {
      "text/plain": [
       "[0, 1, 2, 3, 4, 5, 6, 7, 8, 9]"
      ]
     },
     "execution_count": 10,
     "metadata": {},
     "output_type": "execute_result"
    }
   ],
   "source": [
    "# list(range(10))"
   ]
  },
  {
   "cell_type": "code",
   "execution_count": 16,
   "metadata": {},
   "outputs": [
    {
     "name": "stdout",
     "output_type": "stream",
     "text": [
      "mineur\n"
     ]
    }
   ],
   "source": [
    "age = 16\n",
    "\n",
    "if age > 18:\n",
    "    print(\"majeur\")\n",
    "elif age < 18:\n",
    "    print(\"mineur\")\n",
    "else:\n",
    "    print(\"va passer ton bac\")"
   ]
  },
  {
   "cell_type": "code",
   "execution_count": 18,
   "metadata": {},
   "outputs": [],
   "source": [
    "if age > 18:\n",
    "    print(\"majeur\")\n",
    "elif age > 16:\n",
    "    print(\"mineur\")\n",
    "\n",
    "if age > 18:\n",
    "    print(\"majeur\")\n",
    "if age > 16:\n",
    "    print(\"mineur\")\n",
    "    "
   ]
  },
  {
   "cell_type": "markdown",
   "metadata": {},
   "source": [
    "## Fizz Buzz\n",
    "\n",
    "Pour tous les entiers de 0 à 100 : \n",
    "* On affiche \"fizz\" si l'entier est multiple de 3\n",
    "* On affiche \"buzz\" si l'entier est multiple de 5\n",
    "* On affiche \"bazz\" si l'entier est multiple de 3 et 5\n",
    "* On affiche l'entier\n",
    "\n",
    "#### Résultat :\n",
    "* bazz\n",
    "* 1\n",
    "* 2\n",
    "* fizz\n",
    "* 4\n",
    "* buzz\n",
    "* fizz\n",
    "..."
   ]
  },
  {
   "cell_type": "code",
   "execution_count": 24,
   "metadata": {},
   "outputs": [
    {
     "name": "stdout",
     "output_type": "stream",
     "text": [
      "bazz\n",
      "1\n",
      "2\n",
      "fizz\n",
      "4\n",
      "buzz\n",
      "fizz\n",
      "7\n",
      "8\n",
      "fizz\n",
      "buzz\n"
     ]
    }
   ],
   "source": [
    "for i in range(11):\n",
    "    if i % 3 == 0 and i % 5 == 0:\n",
    "        print(\"bazz\")\n",
    "    elif i % 3 == 0:\n",
    "        print(\"fizz\")\n",
    "    elif i % 5 == 0:\n",
    "        print(\"buzz\")\n",
    "    else:\n",
    "        print(i)"
   ]
  },
  {
   "cell_type": "code",
   "execution_count": 27,
   "metadata": {},
   "outputs": [
    {
     "name": "stdout",
     "output_type": "stream",
     "text": [
      "How old are you ?35\n"
     ]
    }
   ],
   "source": [
    "age = int(input(\"How old are you ?\"))"
   ]
  },
  {
   "cell_type": "code",
   "execution_count": 28,
   "metadata": {},
   "outputs": [
    {
     "name": "stdout",
     "output_type": "stream",
     "text": [
      "<class 'int'>\n"
     ]
    }
   ],
   "source": [
    "print(type(age))"
   ]
  },
  {
   "cell_type": "code",
   "execution_count": 34,
   "metadata": {},
   "outputs": [
    {
     "name": "stdout",
     "output_type": "stream",
     "text": [
      "Guess a number50\n",
      "Too big\n",
      "Guess a number25\n",
      "Too small\n",
      "Guess a number32\n",
      "Too small\n",
      "Guess a number38\n",
      "You won\n"
     ]
    }
   ],
   "source": [
    "from random import randint\n",
    "\n",
    "secret = randint(0, 100)\n",
    "guess = None\n",
    "\n",
    "\"\"\"\n",
    "    The user guess a number.\n",
    "    The computer says if it's too small or too big\n",
    "    So that user can make other guesses untill it's correct\n",
    "\"\"\"\n",
    "while guess != secret:\n",
    "    guess = int(input(\"Guess a number\"))\n",
    "    if guess < secret:\n",
    "        print(\"Too small\")\n",
    "    elif guess > secret:\n",
    "        print(\"Too big\")\n",
    "print(\"You won\")"
   ]
  },
  {
   "cell_type": "code",
   "execution_count": 37,
   "metadata": {},
   "outputs": [
    {
     "name": "stdout",
     "output_type": "stream",
     "text": [
      "I think it's 50. Isn't it ? B/S/EB\n",
      "I think it's 75. Isn't it ? B/S/EB\n",
      "I think it's 88. Isn't it ? B/S/EB\n",
      "I think it's 94. Isn't it ? B/S/EB\n",
      "I think it's 97. Isn't it ? B/S/EB\n",
      "I think it's 99. Isn't it ? B/S/EB\n",
      "I think it's 100. Isn't it ? B/S/EE\n",
      "Computer won !\n"
     ]
    }
   ],
   "source": [
    "borne_min = 0\n",
    "borne_max = 101\n",
    "answer = None\n",
    "\n",
    "while answer != \"E\":\n",
    "    guess = (borne_min + borne_max) // 2\n",
    "    answer = input(f\"I think it's {guess}. Isn't it ? B/S/E\")\n",
    "    if answer == \"B\":\n",
    "        borne_min = guess\n",
    "    elif answer == \"S\":\n",
    "        borne_max = guess\n",
    "        \n",
    "print(\"Computer won !\")"
   ]
  },
  {
   "cell_type": "code",
   "execution_count": 1,
   "metadata": {},
   "outputs": [],
   "source": [
    "def say_hi(name, age=35, location=\"Paris\"):\n",
    "    print(f\"Hello {name}. I am {age} y.o. I live in {location}\")\n",
    "    \n"
   ]
  },
  {
   "cell_type": "code",
   "execution_count": 4,
   "metadata": {},
   "outputs": [
    {
     "name": "stdout",
     "output_type": "stream",
     "text": [
      "Hello Martin. I am 40 y.o. I live in Paris\n",
      "Hello Justine. I am 35 y.o. I live in Campinas\n",
      "Hello Jeanne. I am 35 y.o. I live in Paris\n",
      "None\n"
     ]
    }
   ],
   "source": [
    "say_hi(\"Martin\", 40)\n",
    "say_hi(\"Justine\", location=\"Campinas\")\n",
    "\n",
    "result = say_hi(\"Jeanne\")\n",
    "\n",
    "print(result) # None\n"
   ]
  },
  {
   "cell_type": "code",
   "execution_count": 6,
   "metadata": {},
   "outputs": [
    {
     "name": "stdout",
     "output_type": "stream",
     "text": [
      "12\n",
      "None\n"
     ]
    }
   ],
   "source": [
    "def addition(a, b):\n",
    "    return a + b, None\n",
    "\n",
    "result, param = addition(4, 8)\n",
    "print(result)\n",
    "print(param)"
   ]
  },
  {
   "cell_type": "code",
   "execution_count": 12,
   "metadata": {},
   "outputs": [
    {
     "name": "stdout",
     "output_type": "stream",
     "text": [
      "display a : 10\n",
      "display b : 22\n"
     ]
    }
   ],
   "source": [
    "a, b = 12, 25\n",
    "# print(a)\n",
    "# print(b)\n",
    "\n",
    "def display_a_b():\n",
    "    print(f\"display a : {a}\")\n",
    "    print(f\"display b : {b}\")\n",
    "\n",
    "a, b = 10, 22\n",
    "display_a_b()"
   ]
  },
  {
   "cell_type": "code",
   "execution_count": 14,
   "metadata": {},
   "outputs": [
    {
     "name": "stdout",
     "output_type": "stream",
     "text": [
      "display a : 10\n",
      "display b : 22\n",
      "12\n",
      "25\n"
     ]
    }
   ],
   "source": [
    "a, b = 12, 25\n",
    "# print(a)\n",
    "# print(b)\n",
    "\n",
    "def display_a_b():\n",
    "    a, b = 10, 22\n",
    "    print(f\"display a : {a}\")\n",
    "    print(f\"display b : {b}\")\n",
    "\n",
    "display_a_b()\n",
    "print(a)\n",
    "print(b)\n"
   ]
  },
  {
   "cell_type": "code",
   "execution_count": 15,
   "metadata": {},
   "outputs": [
    {
     "ename": "UnboundLocalError",
     "evalue": "local variable 'a' referenced before assignment",
     "output_type": "error",
     "traceback": [
      "\u001b[1;31m---------------------------------------------------------------------------\u001b[0m",
      "\u001b[1;31mUnboundLocalError\u001b[0m                         Traceback (most recent call last)",
      "\u001b[1;32m<ipython-input-15-a901884b1cd1>\u001b[0m in \u001b[0;36m<module>\u001b[1;34m\u001b[0m\n\u001b[0;32m      8\u001b[0m     \u001b[0ma\u001b[0m\u001b[1;33m,\u001b[0m \u001b[0mb\u001b[0m \u001b[1;33m=\u001b[0m \u001b[1;36m10\u001b[0m\u001b[1;33m,\u001b[0m \u001b[1;36m22\u001b[0m\u001b[1;33m\u001b[0m\u001b[1;33m\u001b[0m\u001b[0m\n\u001b[0;32m      9\u001b[0m \u001b[1;33m\u001b[0m\u001b[0m\n\u001b[1;32m---> 10\u001b[1;33m \u001b[0mdisplay_a_b\u001b[0m\u001b[1;33m(\u001b[0m\u001b[1;33m)\u001b[0m\u001b[1;33m\u001b[0m\u001b[1;33m\u001b[0m\u001b[0m\n\u001b[0m\u001b[0;32m     11\u001b[0m \u001b[0mprint\u001b[0m\u001b[1;33m(\u001b[0m\u001b[0ma\u001b[0m\u001b[1;33m)\u001b[0m\u001b[1;33m\u001b[0m\u001b[1;33m\u001b[0m\u001b[0m\n\u001b[0;32m     12\u001b[0m \u001b[0mprint\u001b[0m\u001b[1;33m(\u001b[0m\u001b[0mb\u001b[0m\u001b[1;33m)\u001b[0m\u001b[1;33m\u001b[0m\u001b[1;33m\u001b[0m\u001b[0m\n",
      "\u001b[1;32m<ipython-input-15-a901884b1cd1>\u001b[0m in \u001b[0;36mdisplay_a_b\u001b[1;34m()\u001b[0m\n\u001b[0;32m      4\u001b[0m \u001b[1;33m\u001b[0m\u001b[0m\n\u001b[0;32m      5\u001b[0m \u001b[1;32mdef\u001b[0m \u001b[0mdisplay_a_b\u001b[0m\u001b[1;33m(\u001b[0m\u001b[1;33m)\u001b[0m\u001b[1;33m:\u001b[0m\u001b[1;33m\u001b[0m\u001b[1;33m\u001b[0m\u001b[0m\n\u001b[1;32m----> 6\u001b[1;33m     \u001b[0mprint\u001b[0m\u001b[1;33m(\u001b[0m\u001b[1;34mf\"display a : {a}\"\u001b[0m\u001b[1;33m)\u001b[0m\u001b[1;33m\u001b[0m\u001b[1;33m\u001b[0m\u001b[0m\n\u001b[0m\u001b[0;32m      7\u001b[0m     \u001b[0mprint\u001b[0m\u001b[1;33m(\u001b[0m\u001b[1;34mf\"display b : {b}\"\u001b[0m\u001b[1;33m)\u001b[0m\u001b[1;33m\u001b[0m\u001b[1;33m\u001b[0m\u001b[0m\n\u001b[0;32m      8\u001b[0m     \u001b[0ma\u001b[0m\u001b[1;33m,\u001b[0m \u001b[0mb\u001b[0m \u001b[1;33m=\u001b[0m \u001b[1;36m10\u001b[0m\u001b[1;33m,\u001b[0m \u001b[1;36m22\u001b[0m\u001b[1;33m\u001b[0m\u001b[1;33m\u001b[0m\u001b[0m\n",
      "\u001b[1;31mUnboundLocalError\u001b[0m: local variable 'a' referenced before assignment"
     ]
    }
   ],
   "source": [
    "a, b = 12, 25\n",
    "# print(a)\n",
    "# print(b)\n",
    "\n",
    "def display_a_b():\n",
    "    print(f\"display a : {a}\")\n",
    "    print(f\"display b : {b}\")\n",
    "    a, b = 10, 22\n",
    "\n",
    "display_a_b()\n",
    "print(a)\n",
    "print(b)\n"
   ]
  },
  {
   "cell_type": "code",
   "execution_count": 16,
   "metadata": {},
   "outputs": [
    {
     "name": "stdout",
     "output_type": "stream",
     "text": [
      "display a : 12\n",
      "display b : 25\n",
      "10\n",
      "22\n"
     ]
    }
   ],
   "source": [
    "a, b = 12, 25\n",
    "# print(a)\n",
    "# print(b)\n",
    "\n",
    "def display_a_b():\n",
    "    global a, b\n",
    "    print(f\"display a : {a}\")\n",
    "    print(f\"display b : {b}\")\n",
    "    a, b = 10, 22\n",
    "\n",
    "display_a_b()\n",
    "print(a)\n",
    "print(b)\n"
   ]
  },
  {
   "cell_type": "code",
   "execution_count": 18,
   "metadata": {},
   "outputs": [
    {
     "name": "stdout",
     "output_type": "stream",
     "text": [
      "Hello Martin. I am 42 y.o. I live in Paris\n",
      "['Martin', '42', 'Paris']\n"
     ]
    }
   ],
   "source": [
    "def say_hi(list_param):\n",
    "    list_param[0] = \"Martin\"\n",
    "    print(f\"Hello {list_param[0]}. I am {list_param[1]} y.o. I live in {list_param[2]}\")\n",
    "    \n",
    "params = [\"Justine\", \"42\", \"Paris\"]\n",
    "say_hi(params)\n",
    "print(params)"
   ]
  },
  {
   "cell_type": "code",
   "execution_count": 19,
   "metadata": {},
   "outputs": [
    {
     "ename": "TypeError",
     "evalue": "'tuple' object does not support item assignment",
     "output_type": "error",
     "traceback": [
      "\u001b[1;31m---------------------------------------------------------------------------\u001b[0m",
      "\u001b[1;31mTypeError\u001b[0m                                 Traceback (most recent call last)",
      "\u001b[1;32m<ipython-input-19-9748dd2d5e96>\u001b[0m in \u001b[0;36m<module>\u001b[1;34m\u001b[0m\n\u001b[0;32m      4\u001b[0m \u001b[1;33m\u001b[0m\u001b[0m\n\u001b[0;32m      5\u001b[0m \u001b[0mparams\u001b[0m \u001b[1;33m=\u001b[0m \u001b[1;33m(\u001b[0m\u001b[1;34m\"Justine\"\u001b[0m\u001b[1;33m,\u001b[0m \u001b[1;34m\"42\"\u001b[0m\u001b[1;33m,\u001b[0m \u001b[1;34m\"Paris\"\u001b[0m\u001b[1;33m)\u001b[0m\u001b[1;33m\u001b[0m\u001b[1;33m\u001b[0m\u001b[0m\n\u001b[1;32m----> 6\u001b[1;33m \u001b[0msay_hi\u001b[0m\u001b[1;33m(\u001b[0m\u001b[0mparams\u001b[0m\u001b[1;33m)\u001b[0m\u001b[1;33m\u001b[0m\u001b[1;33m\u001b[0m\u001b[0m\n\u001b[0m\u001b[0;32m      7\u001b[0m \u001b[0mprint\u001b[0m\u001b[1;33m(\u001b[0m\u001b[0mparams\u001b[0m\u001b[1;33m)\u001b[0m\u001b[1;33m\u001b[0m\u001b[1;33m\u001b[0m\u001b[0m\n",
      "\u001b[1;32m<ipython-input-19-9748dd2d5e96>\u001b[0m in \u001b[0;36msay_hi\u001b[1;34m(list_param)\u001b[0m\n\u001b[0;32m      1\u001b[0m \u001b[1;32mdef\u001b[0m \u001b[0msay_hi\u001b[0m\u001b[1;33m(\u001b[0m\u001b[0mlist_param\u001b[0m\u001b[1;33m)\u001b[0m\u001b[1;33m:\u001b[0m\u001b[1;33m\u001b[0m\u001b[1;33m\u001b[0m\u001b[0m\n\u001b[1;32m----> 2\u001b[1;33m     \u001b[0mlist_param\u001b[0m\u001b[1;33m[\u001b[0m\u001b[1;36m0\u001b[0m\u001b[1;33m]\u001b[0m \u001b[1;33m=\u001b[0m \u001b[1;34m\"Martin\"\u001b[0m\u001b[1;33m\u001b[0m\u001b[1;33m\u001b[0m\u001b[0m\n\u001b[0m\u001b[0;32m      3\u001b[0m     \u001b[0mprint\u001b[0m\u001b[1;33m(\u001b[0m\u001b[1;34mf\"Hello {list_param[0]}. I am {list_param[1]} y.o. I live in {list_param[2]}\"\u001b[0m\u001b[1;33m)\u001b[0m\u001b[1;33m\u001b[0m\u001b[1;33m\u001b[0m\u001b[0m\n\u001b[0;32m      4\u001b[0m \u001b[1;33m\u001b[0m\u001b[0m\n\u001b[0;32m      5\u001b[0m \u001b[0mparams\u001b[0m \u001b[1;33m=\u001b[0m \u001b[1;33m(\u001b[0m\u001b[1;34m\"Justine\"\u001b[0m\u001b[1;33m,\u001b[0m \u001b[1;34m\"42\"\u001b[0m\u001b[1;33m,\u001b[0m \u001b[1;34m\"Paris\"\u001b[0m\u001b[1;33m)\u001b[0m\u001b[1;33m\u001b[0m\u001b[1;33m\u001b[0m\u001b[0m\n",
      "\u001b[1;31mTypeError\u001b[0m: 'tuple' object does not support item assignment"
     ]
    }
   ],
   "source": [
    "def say_hi(list_param):\n",
    "    list_param[0] = \"Martin\"\n",
    "    print(f\"Hello {list_param[0]}. I am {list_param[1]} y.o. I live in {list_param[2]}\")\n",
    "    \n",
    "params = (\"Justine\", \"42\", \"Paris\")\n",
    "say_hi(params)\n",
    "print(params)"
   ]
  },
  {
   "cell_type": "code",
   "execution_count": 26,
   "metadata": {},
   "outputs": [
    {
     "name": "stdout",
     "output_type": "stream",
     "text": [
      "Hello Mario. I am 42 y.o. I live in Paris\n",
      "Mario\n"
     ]
    }
   ],
   "source": [
    "def say_hi(list_param):\n",
    "    list_param[\"firstname\"] = \"Mario\"\n",
    "    print((f\"Hello {list_param['firstname']}.\"\n",
    "          f\" I am {list_param['age']} y.o.\"\n",
    "          f\" I live in {list_param['location']}\"))\n",
    "    \n",
    "params = {\"firstname\": \"Justine\", \"age\":\"42\", \"location\":\"Paris\"}\n",
    "say_hi(params)\n",
    "print(params[\"firstname\"])"
   ]
  },
  {
   "cell_type": "code",
   "execution_count": 34,
   "metadata": {},
   "outputs": [],
   "source": [
    "import pandas as pd\n",
    "\n",
    "# df = pd.read_csv(\"/usr/src/opendata_layer/kaggle/pokemon.csv\")\n",
    "df = pd.read_csv(\"pokemon.csv\")\n",
    "liste_pokemon = df.to_dict(\"records\")\n"
   ]
  },
  {
   "cell_type": "code",
   "execution_count": 35,
   "metadata": {},
   "outputs": [
    {
     "data": {
      "text/plain": [
       "{'abilities': \"['Overgrow', 'Chlorophyll']\",\n",
       " 'against_bug': 1.0,\n",
       " 'against_dark': 1.0,\n",
       " 'against_dragon': 1.0,\n",
       " 'against_electric': 0.5,\n",
       " 'against_fairy': 0.5,\n",
       " 'against_fight': 0.5,\n",
       " 'against_fire': 2.0,\n",
       " 'against_flying': 2.0,\n",
       " 'against_ghost': 1.0,\n",
       " 'against_grass': 0.25,\n",
       " 'against_ground': 1.0,\n",
       " 'against_ice': 2.0,\n",
       " 'against_normal': 1.0,\n",
       " 'against_poison': 1.0,\n",
       " 'against_psychic': 2.0,\n",
       " 'against_rock': 1.0,\n",
       " 'against_steel': 1.0,\n",
       " 'against_water': 0.5,\n",
       " 'attack': 49,\n",
       " 'base_egg_steps': 5120,\n",
       " 'base_happiness': 70,\n",
       " 'base_total': 318,\n",
       " 'capture_rate': '45',\n",
       " 'classfication': 'Seed Pokémon',\n",
       " 'defense': 49,\n",
       " 'experience_growth': 1059860,\n",
       " 'height_m': 0.7,\n",
       " 'hp': 45,\n",
       " 'japanese_name': 'Fushigidaneフシギダネ',\n",
       " 'name': 'Bulbasaur',\n",
       " 'percentage_male': 88.1,\n",
       " 'pokedex_number': 1,\n",
       " 'sp_attack': 65,\n",
       " 'sp_defense': 65,\n",
       " 'speed': 45,\n",
       " 'type1': 'grass',\n",
       " 'type2': 'poison',\n",
       " 'weight_kg': 6.9,\n",
       " 'generation': 1,\n",
       " 'is_legendary': 0}"
      ]
     },
     "execution_count": 35,
     "metadata": {},
     "output_type": "execute_result"
    }
   ],
   "source": [
    "liste_pokemon[0]"
   ]
  },
  {
   "cell_type": "code",
   "execution_count": 44,
   "metadata": {},
   "outputs": [],
   "source": [
    "\n",
    "def filter_by(list_pokemon, key, threshold=50, key2=\"name\"):\n",
    "    \"\"\"\n",
    "        return all pokemon dont la val associée \n",
    "        à la clé est supérieure à threshold\n",
    "        \n",
    "        :param list_pokemon: List of all pokemons\n",
    "        :param key: key on which we filter\n",
    "        :param threshold: threshold\n",
    "\n",
    "        :Example:\n",
    "        >>> filter_by('defense', 50)\n",
    "        [all pokemon whose defense is greater than 50]\n",
    "    \"\"\"\n",
    "#     pokemon[key]\n",
    "#     pokemon[\"defense\"]\n",
    "    result_list = []\n",
    "    for pokemon in list_pokemon:\n",
    "        if pokemon[key] > 50:\n",
    "            result_list.append(pokemon[key2])\n",
    "    return result_list"
   ]
  },
  {
   "cell_type": "code",
   "execution_count": 46,
   "metadata": {},
   "outputs": [
    {
     "data": {
      "text/plain": [
       "[62,\n",
       " 100,\n",
       " 64,\n",
       " 104,\n",
       " 48,\n",
       " 63,\n",
       " 103,\n",
       " 20,\n",
       " 60,\n",
       " 80,\n",
       " 71,\n",
       " 90,\n",
       " 95,\n",
       " 75,\n",
       " 100,\n",
       " 47,\n",
       " 62,\n",
       " 92,\n",
       " 72,\n",
       " 102,\n",
       " 70,\n",
       " 67,\n",
       " 80,\n",
       " 50,\n",
       " 65,\n",
       " 80,\n",
       " 70,\n",
       " 95,\n",
       " 65,\n",
       " 100,\n",
       " 60,\n",
       " 82,\n",
       " 105,\n",
       " 110,\n",
       " 65,\n",
       " 95,\n",
       " 50,\n",
       " 100,\n",
       " 130,\n",
       " 105,\n",
       " 70,\n",
       " 80,\n",
       " 95,\n",
       " 120,\n",
       " 85,\n",
       " 100,\n",
       " 65,\n",
       " 75,\n",
       " 35,\n",
       " 60,\n",
       " 90,\n",
       " 110,\n",
       " 45,\n",
       " 70,\n",
       " 105,\n",
       " 65,\n",
       " 95,\n",
       " 65,\n",
       " 45,\n",
       " 73,\n",
       " 105,\n",
       " 130,\n",
       " 50,\n",
       " 40,\n",
       " 105,\n",
       " 50,\n",
       " 80,\n",
       " 120,\n",
       " 105,\n",
       " 55,\n",
       " 65,\n",
       " 90,\n",
       " 85,\n",
       " 130,\n",
       " 55,\n",
       " 125,\n",
       " 40,\n",
       " 65,\n",
       " 67,\n",
       " 92,\n",
       " 45,\n",
       " 75,\n",
       " 45,\n",
       " 110,\n",
       " 83,\n",
       " 95,\n",
       " 155,\n",
       " 100,\n",
       " 10,\n",
       " 155,\n",
       " 85,\n",
       " 65,\n",
       " 65,\n",
       " 130,\n",
       " 60,\n",
       " 40,\n",
       " 60,\n",
       " 80,\n",
       " 115,\n",
       " 135,\n",
       " 110,\n",
       " 85,\n",
       " 90,\n",
       " 100,\n",
       " 84,\n",
       " 134,\n",
       " 150,\n",
       " 100,\n",
       " 49,\n",
       " 62,\n",
       " 82,\n",
       " 64,\n",
       " 84,\n",
       " 65,\n",
       " 80,\n",
       " 105,\n",
       " 76,\n",
       " 90,\n",
       " 90,\n",
       " 58,\n",
       " 20,\n",
       " 40,\n",
       " 75,\n",
       " 55,\n",
       " 95,\n",
       " 80,\n",
       " 50,\n",
       " 100,\n",
       " 75,\n",
       " 55,\n",
       " 70,\n",
       " 75,\n",
       " 85,\n",
       " 65,\n",
       " 65,\n",
       " 75,\n",
       " 60,\n",
       " 33,\n",
       " 80,\n",
       " 65,\n",
       " 90,\n",
       " 70,\n",
       " 75,\n",
       " 125,\n",
       " 120,\n",
       " 95,\n",
       " 150,\n",
       " 10,\n",
       " 185,\n",
       " 95,\n",
       " 130,\n",
       " 50,\n",
       " 100,\n",
       " 55,\n",
       " 105,\n",
       " 40,\n",
       " 80,\n",
       " 90,\n",
       " 95,\n",
       " 60,\n",
       " 120,\n",
       " 80,\n",
       " 95,\n",
       " 95,\n",
       " 80,\n",
       " 85,\n",
       " 115,\n",
       " 75,\n",
       " 84,\n",
       " 164,\n",
       " 90,\n",
       " 130,\n",
       " 100,\n",
       " 110,\n",
       " 85,\n",
       " 160,\n",
       " 85,\n",
       " 150,\n",
       " 90,\n",
       " 70,\n",
       " 35,\n",
       " 35,\n",
       " 50,\n",
       " 70,\n",
       " 100,\n",
       " 85,\n",
       " 50,\n",
       " 85,\n",
       " 60,\n",
       " 40,\n",
       " 130,\n",
       " 60,\n",
       " 80,\n",
       " 160,\n",
       " 45,\n",
       " 91,\n",
       " 120,\n",
       " 45,\n",
       " 65,\n",
       " 85,\n",
       " 105,\n",
       " 70,\n",
       " 90,\n",
       " 140,\n",
       " 40,\n",
       " 100,\n",
       " 75,\n",
       " 73,\n",
       " 47,\n",
       " 43,\n",
       " 73,\n",
       " 140,\n",
       " 120,\n",
       " 85,\n",
       " 45,\n",
       " 60,\n",
       " 100,\n",
       " 115,\n",
       " 40,\n",
       " 110,\n",
       " 115,\n",
       " 100,\n",
       " 55,\n",
       " 95,\n",
       " 78,\n",
       " 80,\n",
       " 120,\n",
       " 40,\n",
       " 70,\n",
       " 41,\n",
       " 81,\n",
       " 125,\n",
       " 60,\n",
       " 70,\n",
       " 90,\n",
       " 165,\n",
       " 40,\n",
       " 70,\n",
       " 68,\n",
       " 50,\n",
       " 150,\n",
       " 120,\n",
       " 60,\n",
       " 80,\n",
       " 64,\n",
       " 104,\n",
       " 84,\n",
       " 90,\n",
       " 30,\n",
       " 75,\n",
       " 95,\n",
       " 145,\n",
       " 55,\n",
       " 75,\n",
       " 145,\n",
       " 100,\n",
       " 50,\n",
       " 75,\n",
       " 100,\n",
       " 130,\n",
       " 150,\n",
       " 180,\n",
       " 180,\n",
       " 100,\n",
       " 95,\n",
       " 68,\n",
       " 89,\n",
       " 109,\n",
       " 78,\n",
       " 104,\n",
       " 51,\n",
       " 66,\n",
       " 86,\n",
       " 120,\n",
       " 85,\n",
       " 85,\n",
       " 120,\n",
       " 70,\n",
       " 165,\n",
       " 42,\n",
       " 52,\n",
       " 69,\n",
       " 80,\n",
       " 45,\n",
       " 105,\n",
       " 60,\n",
       " 83,\n",
       " 100,\n",
       " 136,\n",
       " 60,\n",
       " 125,\n",
       " 82,\n",
       " 93,\n",
       " 24,\n",
       " 89,\n",
       " 80,\n",
       " 92,\n",
       " 90,\n",
       " 170,\n",
       " 145,\n",
       " 72,\n",
       " 112,\n",
       " 50,\n",
       " 90,\n",
       " 106,\n",
       " 100,\n",
       " 49,\n",
       " 69,\n",
       " 132,\n",
       " 120,\n",
       " 70,\n",
       " 85,\n",
       " 140,\n",
       " 100,\n",
       " 123,\n",
       " 95,\n",
       " 50,\n",
       " 76,\n",
       " 110,\n",
       " 60,\n",
       " 95,\n",
       " 130,\n",
       " 80,\n",
       " 165,\n",
       " 55,\n",
       " 100,\n",
       " 80,\n",
       " 65,\n",
       " 75,\n",
       " 105,\n",
       " 125,\n",
       " 120,\n",
       " 120,\n",
       " 90,\n",
       " 160,\n",
       " 120,\n",
       " 70,\n",
       " 80,\n",
       " 100,\n",
       " 90,\n",
       " 103,\n",
       " 120,\n",
       " 100,\n",
       " 45,\n",
       " 60,\n",
       " 75,\n",
       " 93,\n",
       " 123,\n",
       " 75,\n",
       " 100,\n",
       " 85,\n",
       " 80,\n",
       " 110,\n",
       " 98,\n",
       " 98,\n",
       " 98,\n",
       " 55,\n",
       " 77,\n",
       " 115,\n",
       " 100,\n",
       " 75,\n",
       " 105,\n",
       " 135,\n",
       " 57,\n",
       " 135,\n",
       " 60,\n",
       " 80,\n",
       " 105,\n",
       " 140,\n",
       " 65,\n",
       " 95,\n",
       " 100,\n",
       " 125,\n",
       " 53,\n",
       " 63,\n",
       " 103,\n",
       " 45,\n",
       " 55,\n",
       " 100,\n",
       " 27,\n",
       " 67,\n",
       " 60,\n",
       " 92,\n",
       " 117,\n",
       " 30,\n",
       " 86,\n",
       " 65,\n",
       " 105,\n",
       " 75,\n",
       " 90,\n",
       " 58,\n",
       " 30,\n",
       " 50,\n",
       " 78,\n",
       " 108,\n",
       " 140,\n",
       " 50,\n",
       " 95,\n",
       " 105,\n",
       " 95,\n",
       " 45,\n",
       " 55,\n",
       " 65,\n",
       " 87,\n",
       " 65,\n",
       " 95,\n",
       " 100,\n",
       " 75,\n",
       " 135,\n",
       " 85,\n",
       " 60,\n",
       " 75,\n",
       " 77,\n",
       " 50,\n",
       " 94,\n",
       " 55,\n",
       " 80,\n",
       " 100,\n",
       " 85,\n",
       " 115,\n",
       " 55,\n",
       " 75,\n",
       " 30,\n",
       " 40,\n",
       " 55,\n",
       " 87,\n",
       " 117,\n",
       " 147,\n",
       " 130,\n",
       " 40,\n",
       " 66,\n",
       " 125,\n",
       " 120,\n",
       " 124,\n",
       " 85,\n",
       " 125,\n",
       " 110,\n",
       " 123,\n",
       " 55,\n",
       " 65,\n",
       " 97,\n",
       " 109,\n",
       " 85,\n",
       " 105,\n",
       " 85,\n",
       " 60,\n",
       " 90,\n",
       " 129,\n",
       " 90,\n",
       " 100,\n",
       " 105,\n",
       " 120,\n",
       " 150,\n",
       " 145,\n",
       " 120,\n",
       " 72,\n",
       " 128,\n",
       " 120,\n",
       " 61,\n",
       " 78,\n",
       " 107,\n",
       " 59,\n",
       " 69,\n",
       " 63,\n",
       " 145,\n",
       " 56,\n",
       " 73,\n",
       " 81,\n",
       " 22,\n",
       " 50,\n",
       " 68,\n",
       " 65,\n",
       " 65,\n",
       " 100,\n",
       " 82,\n",
       " 124,\n",
       " 80,\n",
       " 48,\n",
       " 48,\n",
       " 80,\n",
       " 110,\n",
       " 52,\n",
       " 72,\n",
       " 48,\n",
       " 80,\n",
       " 54,\n",
       " 92,\n",
       " 52,\n",
       " 105,\n",
       " 60,\n",
       " 75,\n",
       " 53,\n",
       " 73,\n",
       " 55,\n",
       " 89,\n",
       " 121,\n",
       " 77,\n",
       " 65,\n",
       " 92,\n",
       " 58,\n",
       " 50,\n",
       " 75,\n",
       " 100,\n",
       " 80,\n",
       " 110,\n",
       " 66,\n",
       " 100,\n",
       " 69,\n",
       " 117,\n",
       " 70,\n",
       " 131,\n",
       " 131,\n",
       " 100,\n",
       " 160,\n",
       " 160,\n",
       " 110,\n",
       " 55,\n",
       " 75,\n",
       " 107,\n",
       " 115,\n",
       " 54,\n",
       " 69,\n",
       " 74,\n",
       " 120,\n",
       " 110,\n",
       " 82,\n",
       " 70,\n",
       " 82,\n",
       " 132,\n",
       " 70,\n",
       " 55,\n",
       " 115,\n",
       " 140,\n",
       " 53,\n",
       " 63,\n",
       " 100,\n",
       " 125,\n",
       " 40,\n",
       " 70,\n",
       " 105,\n",
       " 35,\n",
       " 45,\n",
       " 64,\n",
       " 125,\n",
       " 120,\n",
       " 52,\n",
       " 60,\n",
       " 120,\n",
       " 125,\n",
       " 55,\n",
       " 75,\n",
       " 60,\n",
       " 95,\n",
       " 95,\n",
       " 100,\n",
       " 115,\n",
       " 78,\n",
       " 98,\n",
       " 90,\n",
       " 105,\n",
       " 60,\n",
       " 131,\n",
       " 55,\n",
       " 75,\n",
       " 110,\n",
       " 115,\n",
       " 85,\n",
       " 130,\n",
       " 75,\n",
       " 29,\n",
       " 137,\n",
       " 113,\n",
       " 139,\n",
       " 89,\n",
       " 101,\n",
       " 181,\n",
       " 101,\n",
       " 107,\n",
       " 95]"
      ]
     },
     "execution_count": 46,
     "metadata": {},
     "output_type": "execute_result"
    }
   ],
   "source": [
    "filter_by(liste_pokemon, \"defense\", key2=\"attack\")"
   ]
  },
  {
   "cell_type": "code",
   "execution_count": 50,
   "metadata": {},
   "outputs": [
    {
     "data": {
      "text/plain": [
       "[0, 4, 5, 7, 9]"
      ]
     },
     "execution_count": 50,
     "metadata": {},
     "output_type": "execute_result"
    }
   ],
   "source": [
    "def bubble_sort(array):\n",
    "    result = array.copy()\n",
    "    for j in range(len(result)-1):\n",
    "        for i in range(len(result)-1):\n",
    "            if result[i] > result[i+1]:\n",
    "                result[i], result[i+1] = result[i+1], result[i]\n",
    "    return result\n",
    "\n",
    "bubble_sort([5,4,7,9,0])"
   ]
  },
  {
   "cell_type": "code",
   "execution_count": 51,
   "metadata": {},
   "outputs": [
    {
     "name": "stdout",
     "output_type": "stream",
     "text": [
      "indice : 0, valeur: 4\n",
      "indice : 1, valeur: 2\n",
      "indice : 2, valeur: 6\n",
      "indice : 3, valeur: 1\n",
      "indice : 4, valeur: 7\n",
      "indice : 5, valeur: 13\n"
     ]
    }
   ],
   "source": [
    "for i, val in enumerate([4,2,6,1,7,13]):\n",
    "    print(f\"indice : {i}, valeur: {val}\")"
   ]
  },
  {
   "cell_type": "code",
   "execution_count": 52,
   "metadata": {},
   "outputs": [
    {
     "name": "stdout",
     "output_type": "stream",
     "text": [
      "i1: 4 i2: 1\n",
      "i1: 2 i2: 7\n",
      "i1: 60 i2: 13\n"
     ]
    }
   ],
   "source": [
    "for i1, i2 in zip([4,2,60], [1,7,13]):\n",
    "    print(f\"i1: {i1} i2: {i2}\")"
   ]
  },
  {
   "cell_type": "code",
   "execution_count": 53,
   "metadata": {},
   "outputs": [
    {
     "name": "stdout",
     "output_type": "stream",
     "text": [
      "i1: 4 i2: 1\n",
      "i1: 4 i2: 7\n",
      "i1: 4 i2: 13\n",
      "i1: 2 i2: 1\n",
      "i1: 2 i2: 7\n",
      "i1: 2 i2: 13\n",
      "i1: 60 i2: 1\n",
      "i1: 60 i2: 7\n",
      "i1: 60 i2: 13\n"
     ]
    }
   ],
   "source": [
    "from itertools import product\n",
    "\n",
    "for i1,i2 in product([4,2,60], [1,7,13]):\n",
    "    print(f\"i1: {i1} i2: {i2}\")"
   ]
  },
  {
   "cell_type": "code",
   "execution_count": null,
   "metadata": {},
   "outputs": [],
   "source": []
  },
  {
   "cell_type": "code",
   "execution_count": null,
   "metadata": {},
   "outputs": [],
   "source": []
  }
 ],
 "metadata": {
  "kernelspec": {
   "display_name": "Python 3",
   "language": "python",
   "name": "python3"
  },
  "language_info": {
   "codemirror_mode": {
    "name": "ipython",
    "version": 3
   },
   "file_extension": ".py",
   "mimetype": "text/x-python",
   "name": "python",
   "nbconvert_exporter": "python",
   "pygments_lexer": "ipython3",
   "version": "3.7.3"
  }
 },
 "nbformat": 4,
 "nbformat_minor": 2
}
