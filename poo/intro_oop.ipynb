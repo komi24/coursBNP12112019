{
 "cells": [
  {
   "cell_type": "code",
   "execution_count": 2,
   "metadata": {},
   "outputs": [
    {
     "name": "stdout",
     "output_type": "stream",
     "text": [
      "Antoine\n",
      "Antoine\n",
      "Emma\n",
      "Antoine\n"
     ]
    }
   ],
   "source": [
    "class Person:\n",
    "    def __init__(self):\n",
    "        self.firstname = \"Antoine\"\n",
    "        self.lastname = \"De Caunes\"\n",
    "        self.age = 52\n",
    "\n",
    "une_personne = Person()\n",
    "une_autre_personne = Person()\n",
    "\n",
    "print(une_personne.firstname)\n",
    "print(une_autre_personne.firstname)\n",
    "\n",
    "une_personne.firstname = \"Emma\"\n",
    "\n",
    "print(une_personne.firstname)\n",
    "print(une_autre_personne.firstname)\n"
   ]
  },
  {
   "cell_type": "code",
   "execution_count": 32,
   "metadata": {},
   "outputs": [
    {
     "name": "stdout",
     "output_type": "stream",
     "text": [
      "Bonjour je m'appelle Antoine De Caunes\n",
      "Hello my name is Emma De Caunes\n",
      "Privet menya zovut Gerard Depardieu\n",
      "[Compte solde: 2500, Compte solde: 2500, Compte solde: 2500]\n",
      "True\n",
      "Compte solde: 6000\n"
     ]
    }
   ],
   "source": [
    "from functools import total_ordering\n",
    "\n",
    "\n",
    "@total_ordering\n",
    "class Compte:\n",
    "    \"\"\"\n",
    "    Compte bancaire\n",
    "    Attribut : \n",
    "        - solde\n",
    "    Methodes:\n",
    "        - depot(self, montant) ajoute le montant au solde\n",
    "        - retrait(self, montant) retire le montant au solde\n",
    "    \"\"\"\n",
    "    def __init__(self, solde_init):\n",
    "        self.solde = solde_init\n",
    "        \n",
    "    def retrait(self, montant):\n",
    "        self.solde -= montant\n",
    "\n",
    "    def depot(self, montant):\n",
    "        self.solde += montant\n",
    "        \n",
    "    def __lt__(self, other):\n",
    "        return self.solde < other.solde\n",
    "        \n",
    "    def __eq_(self, other):\n",
    "        return self.solde == other.solde\n",
    "        \n",
    "    def __add__(self, other):\n",
    "        \"\"\"\n",
    "            Si other est un compte retourner un compter dont le solde\n",
    "            est la somme des deux\n",
    "            Si other est un int ou float retourner un self après avoir fait\n",
    "            un dépot\n",
    "        \"\"\"\n",
    "        return Compte(self.solde + other.solde)\n",
    "\n",
    "    def __repr__(self):\n",
    "        return f\"Compte solde: {self.solde}\"\n",
    "\n",
    "\n",
    "class Person:\n",
    "    \"\"\"\n",
    "    Ajouter méthode transfert qui prend un montant de notre compte\n",
    "    et l'ajoute dans le compte d'une autre personne\n",
    "    \"\"\"\n",
    "    def __init__(self, firstname_init, lastname_init=\"De Caunes\", solde_init=3000):\n",
    "        self.firstname = firstname_init\n",
    "        self.lastname = lastname_init\n",
    "        self.age = 52\n",
    "        self.compte = Compte(solde_init)\n",
    "\n",
    "    def dire_bonjour(self, lng=\"FR\"):\n",
    "        if lng == \"FR\":\n",
    "            print(f\"Bonjour je m'appelle {self.firstname} {self.lastname}\")\n",
    "        elif lng == \"EN\":\n",
    "            print(f\"Hello my name is {self.firstname} {self.lastname}\")\n",
    "        elif lng == \"RU\":\n",
    "            print(f\"Privet menya zovut {self.firstname} {self.lastname}\")\n",
    "        \n",
    "    def transfert(self, autre_personne, montant):\n",
    "        self.compte.retrait(montant)\n",
    "        autre_personne.compte.depot(montant)\n",
    "        \n",
    "        \n",
    "une_personne = Person(\"Antoine\")\n",
    "une_autre_personne = Person(\"Emma\")\n",
    "un_etranger = Person(\"Gerard\", \"Depardieu\")\n",
    "\n",
    "une_personne.dire_bonjour()\n",
    "une_personne.age = 53\n",
    "une_autre_personne.dire_bonjour(lng=\"EN\")\n",
    "un_etranger.dire_bonjour(\"RU\")\n",
    "\n",
    "# del une_personne \n",
    "\n",
    "une_personne.transfert(une_autre_personne, 500)\n",
    "print([une_personne.compte, une_personne.compte, une_personne.compte])\n",
    "\n",
    "print(une_personne.compte <= une_autre_personne.compte)\n",
    "\n",
    "print(une_personne.compte + une_autre_personne.compte)\n"
   ]
  },
  {
   "cell_type": "code",
   "execution_count": 14,
   "metadata": {},
   "outputs": [
    {
     "name": "stdout",
     "output_type": "stream",
     "text": [
      "Bonjour je m'appelle toto De Caunes\n"
     ]
    }
   ],
   "source": [
    "liste_soldes = [42, 45, 65, 24]\n",
    "liste_personnes = [Person(\"toto\"), Person(\"tata\")]\n",
    "liste_personnes = [Person(\"toto\", solde_init=solde) for solde in liste_soldes]\n",
    "liste_personnes[0].dire_bonjour()"
   ]
  },
  {
   "cell_type": "code",
   "execution_count": 20,
   "metadata": {},
   "outputs": [
    {
     "name": "stdout",
     "output_type": "stream",
     "text": [
      "\n"
     ]
    }
   ],
   "source": [
    "print()"
   ]
  },
  {
   "cell_type": "code",
   "execution_count": 21,
   "metadata": {},
   "outputs": [
    {
     "data": {
      "text/plain": [
       "<function print>"
      ]
     },
     "execution_count": 21,
     "metadata": {},
     "output_type": "execute_result"
    }
   ],
   "source": [
    "print"
   ]
  }
 ],
 "metadata": {
  "kernelspec": {
   "display_name": "Python 3",
   "language": "python",
   "name": "python3"
  },
  "language_info": {
   "codemirror_mode": {
    "name": "ipython",
    "version": 3
   },
   "file_extension": ".py",
   "mimetype": "text/x-python",
   "name": "python",
   "nbconvert_exporter": "python",
   "pygments_lexer": "ipython3",
   "version": "3.7.3"
  }
 },
 "nbformat": 4,
 "nbformat_minor": 2
}
