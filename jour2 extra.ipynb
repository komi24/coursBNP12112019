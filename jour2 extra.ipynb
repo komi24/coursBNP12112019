{
 "cells": [
  {
   "cell_type": "code",
   "execution_count": 3,
   "metadata": {},
   "outputs": [
    {
     "data": {
      "text/plain": [
       "[0, 6, 12, 18]"
      ]
     },
     "execution_count": 3,
     "metadata": {},
     "output_type": "execute_result"
    }
   ],
   "source": [
    "ma_liste = [i*2 for i in range(10)]\n",
    "ma_liste = [i*2 for i in range(10) if i % 3 == 0]\n",
    "ma_liste"
   ]
  },
  {
   "cell_type": "code",
   "execution_count": 4,
   "metadata": {},
   "outputs": [],
   "source": [
    "import pandas as pd\n",
    "\n",
    "# df = pd.read_csv(\"/usr/src/opendata_layer/kaggle/pokemon.csv\")\n",
    "df = pd.read_csv(\"pokemon.csv\")\n",
    "liste_pokemon = df.to_dict(\"records\")\n"
   ]
  },
  {
   "cell_type": "code",
   "execution_count": 10,
   "metadata": {},
   "outputs": [],
   "source": [
    "liste_nom = [p[\"name\"] for p in liste_pokemon if p[\"defense\"] > 50]\n",
    "# liste_nom"
   ]
  },
  {
   "cell_type": "code",
   "execution_count": 11,
   "metadata": {},
   "outputs": [],
   "source": [
    "age = 32\n",
    "\n",
    "etat = \"mineur\" if age < 18 else \"majeur\"\n",
    "\n",
    "# if age > 18:\n",
    "#     etat = \"majeur\"\n",
    "# else:\n",
    "#     etat = \"mineur\""
   ]
  },
  {
   "cell_type": "code",
   "execution_count": 12,
   "metadata": {},
   "outputs": [
    {
     "name": "stdout",
     "output_type": "stream",
     "text": [
      "Bonjour Elisa\n",
      "Bonjour Justine\n",
      "Bonjour Mathieu\n"
     ]
    }
   ],
   "source": [
    "def dire_bonjour(*args):\n",
    "    for pers in args:\n",
    "        print(f\"Bonjour {pers}\")\n",
    "        \n",
    "dire_bonjour(\"Elisa\", \"Justine\", \"Mathieu\")"
   ]
  },
  {
   "cell_type": "code",
   "execution_count": 14,
   "metadata": {},
   "outputs": [
    {
     "name": "stdout",
     "output_type": "stream",
     "text": [
      "Bonjour Elisa\n",
      "Bonjour Justine\n",
      "Bonjour Mathieu\n"
     ]
    }
   ],
   "source": [
    "def dire_bonjour(**kwargs):\n",
    "    for key in kwargs:\n",
    "        print(f\"Bonjour {kwargs[key]}\")\n",
    "        \n",
    "dire_bonjour(pers1=\"Elisa\", pers2=\"Justine\", pers3=\"Mathieu\")"
   ]
  },
  {
   "cell_type": "code",
   "execution_count": 13,
   "metadata": {},
   "outputs": [
    {
     "name": "stdout",
     "output_type": "stream",
     "text": [
      "nom\n",
      "prenom\n"
     ]
    }
   ],
   "source": [
    "dico = {\"nom\": \"Dupont\", \"prenom\": \"Eliane\"}\n",
    "\n",
    "for i in dico:\n",
    "    print(i)"
   ]
  },
  {
   "cell_type": "code",
   "execution_count": 26,
   "metadata": {},
   "outputs": [
    {
     "name": "stdout",
     "output_type": "stream",
     "text": [
      "Bonjour MARTIN. J'ai 42 ans.\n",
      "Aurevoir OLIVIER. J'ai 50 ans.\n"
     ]
    }
   ],
   "source": [
    "def upper(f):\n",
    "    def nouvelle_fonction(*args, **kwargs):\n",
    "        args = (args[0].upper(),) + args[1:]\n",
    "        return f(*args, **kwargs)\n",
    "    return nouvelle_fonction\n",
    "\n",
    "@upper\n",
    "def dire_bonjour(name, age=42):\n",
    "    print(f\"Bonjour {name}. J'ai {age} ans.\")\n",
    "\n",
    "@upper\n",
    "def dire_aurevoir(name, age=42):\n",
    "    print(f\"Aurevoir {name}. J'ai {age} ans.\")\n",
    "\n",
    "config = {\"name\": \"Isidor\", \"age\": 84}\n",
    "dire_bonjour(\"martin\", 42)\n",
    "dire_aurevoir(\"olivier\")\n"
   ]
  },
  {
   "cell_type": "code",
   "execution_count": null,
   "metadata": {},
   "outputs": [],
   "source": []
  }
 ],
 "metadata": {
  "kernelspec": {
   "display_name": "Python 3",
   "language": "python",
   "name": "python3"
  },
  "language_info": {
   "codemirror_mode": {
    "name": "ipython",
    "version": 3
   },
   "file_extension": ".py",
   "mimetype": "text/x-python",
   "name": "python",
   "nbconvert_exporter": "python",
   "pygments_lexer": "ipython3",
   "version": "3.7.3"
  }
 },
 "nbformat": 4,
 "nbformat_minor": 2
}
